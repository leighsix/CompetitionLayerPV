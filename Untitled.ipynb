{
 "cells": [
  {
   "cell_type": "code",
   "execution_count": 4,
   "metadata": {},
   "outputs": [],
   "source": [
    "import numpy as np\n",
    "import pandas as pd\n",
    "import NodeProperty\n",
    "import EdgeProperty\n",
    "import SettingSimulationValue\n",
    "import InterconnectedDynamics\n",
    "import InterconnectedLayerModeling\n",
    "import time\n",
    "import operator\n",
    "import random\n",
    "import RepeatDynamics\n",
    "import networkx as nx"
   ]
  },
  {
   "cell_type": "code",
   "execution_count": 2,
   "metadata": {},
   "outputs": [
    {
     "name": "stdout",
     "output_type": "stream",
     "text": [
      "RepeatDynamics\n"
     ]
    }
   ],
   "source": [
    "print(\"RepeatDynamics\")\n",
    "start = time.time()\n",
    "setting = SettingSimulationValue.SettingSimulationValue()\n",
    "setting.Repeating_number = 10\n",
    "inter_layer = InterconnectedLayerModeling.InterconnectedLayerModeling(setting)"
   ]
  },
  {
   "cell_type": "code",
   "execution_count": 5,
   "metadata": {},
   "outputs": [],
   "source": [
    "edge_betweenness = nx.edge_betweenness_centrality(inter_layer.two_layer_graph)\n",
    "edge_betweenness_order = sorted(edge_betweenness.items(), key=operator.itemgetter(1), reverse=True)"
   ]
  },
  {
   "cell_type": "code",
   "execution_count": 7,
   "metadata": {},
   "outputs": [
    {
     "name": "stdout",
     "output_type": "stream",
     "text": [
      "[((2048, 2053), 0.003007761153054395), ((11, 2160), 0.002682705389426009), ((2053, 2054), 0.002477919283072876), ((6, 2125), 0.0024111544228333412), ((8, 9), 0.0023924917387382516), ((5, 8), 0.0023903038547072827), ((7, 8), 0.0022054073991720933), ((5, 9), 0.002147822421595233), ((8, 17), 0.0021290038812025475), ((3, 2216), 0.0021011521619705978)]\n"
     ]
    }
   ],
   "source": [
    "print(edge_betweenness_order[0:10])"
   ]
  },
  {
   "cell_type": "code",
   "execution_count": 8,
   "metadata": {},
   "outputs": [
    {
     "name": "stdout",
     "output_type": "stream",
     "text": [
      "8176\n",
      "18400\n",
      "[9, 14, 17, 18, 19, 21, 23, 27, 37, 40, 41, 46, 47, 54, 55, 56, 58, 59, 60, 62, 67, 70, 71, 74, 76, 81, 85, 95, 98, 101, 113, 117, 119, 142, 150, 156, 171, 185, 190, 214, 236, 244, 247, 249, 286, 287, 313, 321, 334, 354, 356, 381, 382, 392, 407, 416, 433, 449, 498, 516, 532, 565, 573, 597, 601, 609, 615, 623, 638, 651, 654, 661, 667, 676, 695, 696, 702, 703, 740, 745, 753, 755, 767, 838, 850, 852, 867, 880, 887, 893, 901, 919, 929, 936, 944, 963, 989, 999, 1024, 1069, 1089, 1090, 1112, 1146, 1218, 1224, 1234, 1249, 1285, 1325, 1339, 1353, 1359, 1379, 1393, 1448, 1481, 1489, 1517, 1568, 1588, 1601, 1605, 1621, 1644, 1647, 1664, 1685, 1696, 1699, 1702, 1762, 1775, 1805, 1810, 1813, 1869, 1889, 1894, 1916, 1973, 2005, 2023, 2025, 2721]\n"
     ]
    }
   ],
   "source": [
    "print(len(inter_layer.edges_on_A))\n",
    "print(len(sorted(inter_layer.two_layer_graph.edges)))\n",
    "print(inter_layer.unique_neighbor_dict[8])"
   ]
  },
  {
   "cell_type": "code",
   "execution_count": 10,
   "metadata": {
    "scrolled": true
   },
   "outputs": [
    {
     "name": "stdout",
     "output_type": "stream",
     "text": [
      "[(8, 9), (5, 8), (7, 8), (5, 9), (8, 17), (7, 9), (3, 8), (9, 17), (3, 5), (4, 5)]\n",
      "8166\n",
      "18390\n",
      "[14, 18, 19, 21, 23, 27, 37, 40, 41, 46, 47, 54, 55, 56, 58, 59, 60, 62, 67, 70, 71, 74, 76, 81, 85, 95, 98, 101, 113, 117, 119, 142, 150, 156, 171, 185, 190, 214, 236, 244, 247, 249, 286, 287, 313, 321, 334, 354, 356, 381, 382, 392, 407, 416, 433, 449, 498, 516, 532, 565, 573, 597, 601, 609, 615, 623, 638, 651, 654, 661, 667, 676, 695, 696, 702, 703, 740, 745, 753, 755, 767, 838, 850, 852, 867, 880, 887, 893, 901, 919, 929, 936, 944, 963, 989, 999, 1024, 1069, 1089, 1090, 1112, 1146, 1218, 1224, 1234, 1249, 1285, 1325, 1339, 1353, 1359, 1379, 1393, 1448, 1481, 1489, 1517, 1568, 1588, 1601, 1605, 1621, 1644, 1647, 1664, 1685, 1696, 1699, 1702, 1762, 1775, 1805, 1810, 1813, 1869, 1889, 1894, 1916, 1973, 2005, 2023, 2025, 2721]\n"
     ]
    }
   ],
   "source": [
    "res = RepeatDynamics.RepeatDynamics()\n",
    "result = res.select_keyedge(setting, inter_layer, 'edge_betweenness', 'A_internal', 10)\n",
    "print(result[0])\n",
    "print(len(inter_layer.edges_on_A))\n",
    "print(len(sorted(inter_layer.two_layer_graph.edges)))\n",
    "print(inter_layer.unique_neighbor_dict[8])"
   ]
  },
  {
   "cell_type": "code",
   "execution_count": 11,
   "metadata": {},
   "outputs": [
    {
     "data": {
      "text/plain": [
       "([(8, 9),\n",
       "  (5, 8),\n",
       "  (7, 8),\n",
       "  (5, 9),\n",
       "  (8, 17),\n",
       "  (7, 9),\n",
       "  (3, 8),\n",
       "  (9, 17),\n",
       "  (3, 5),\n",
       "  (4, 5)],\n",
       " 0.02044915160771311,\n",
       " <InterconnectedLayerModeling.InterconnectedLayerModeling at 0x210cc191400>)"
      ]
     },
     "execution_count": 11,
     "metadata": {},
     "output_type": "execute_result"
    }
   ],
   "source": [
    "result"
   ]
  }
 ],
 "metadata": {
  "kernelspec": {
   "display_name": "Python 3",
   "language": "python",
   "name": "python3"
  },
  "language_info": {
   "codemirror_mode": {
    "name": "ipython",
    "version": 3
   },
   "file_extension": ".py",
   "mimetype": "text/x-python",
   "name": "python",
   "nbconvert_exporter": "python",
   "pygments_lexer": "ipython3",
   "version": "3.7.3"
  }
 },
 "nbformat": 4,
 "nbformat_minor": 2
}
