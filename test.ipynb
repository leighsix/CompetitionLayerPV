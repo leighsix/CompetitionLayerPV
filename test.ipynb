{
 "cells": [
  {
   "cell_type": "code",
   "execution_count": 1,
   "metadata": {},
   "outputs": [],
   "source": [
    "import numpy as np\n",
    "import pandas as pd\n",
    "import NodeProperty\n",
    "import EdgeProperty\n",
    "import SettingSimulationValue\n",
    "import InterconnectedDynamics\n",
    "import InterconnectedLayerModeling\n",
    "import time\n",
    "import operator\n",
    "import random\n",
    "import RepeatDynamics\n",
    "import networkx as nx\n",
    "from mpl_toolkits import mplot3d\n",
    "import matplotlib.pyplot as plt"
   ]
  },
  {
   "cell_type": "code",
   "execution_count": 2,
   "metadata": {},
   "outputs": [],
   "source": []
  },
  {
   "cell_type": "code",
   "execution_count": 3,
   "metadata": {},
   "outputs": [],
   "source": [
    "setting = SettingSimulationValue.SettingSimulationValue()\n",
    "def CI_cal(Ap, Bp):\n",
    "    return ((Ap * (setting.B_node-Bp)) + ((setting.A_node-Ap) * Bp)) / (setting.A_node * setting.B_node)\n",
    "Aps = [i for i in range(setting.A_node+1)]\n",
    "Bps = [i for i in range(setting.B_node+1)]\n",
    "A, B = np.meshgrid(Aps, Bps)\n",
    "CI = CI_cal(A, B)\n",
    "fig = plt.figure()\n",
    "ax = plt.axes(projection='3d')\n",
    "ax.contour3D(A, B, CI, 200, cmap='viridis')\n",
    "ax.set_xlabel('A')\n",
    "ax.set_ylabel('B')\n",
    "ax.set_zlabel('CI')\n",
    "ax.view_init(60,35)\n",
    "plt.show()"
   ]
  },
  {
   "cell_type": "code",
   "execution_count": null,
   "metadata": {},
   "outputs": [],
   "source": []
  },
  {
   "cell_type": "code",
   "execution_count": null,
   "metadata": {},
   "outputs": [],
   "source": []
  },
  {
   "cell_type": "code",
   "execution_count": null,
   "metadata": {},
   "outputs": [],
   "source": []
  },
  {
   "cell_type": "code",
   "execution_count": null,
   "metadata": {},
   "outputs": [],
   "source": [
    "setting.Repeating_number = 10\n",
    "inter_layer = InterconnectedLayerModeling.InterconnectedLayerModeling(setting)"
   ]
  },
  {
   "cell_type": "code",
   "execution_count": null,
   "metadata": {
    "scrolled": true
   },
   "outputs": [],
   "source": [
    "nx.edge_connectivity(inter_layer.two_layer_graph)"
   ]
  },
  {
   "cell_type": "code",
   "execution_count": null,
   "metadata": {},
   "outputs": [],
   "source": [
    "a = None\n",
    "len(a)"
   ]
  },
  {
   "cell_type": "code",
   "execution_count": null,
   "metadata": {},
   "outputs": [],
   "source": [
    "edge_jaccard = {}\n",
    "jaccard_list = list(nx.jaccard_coefficient(inter_layer.two_layer_graph, sorted(inter_layer.two_layer_graph.edges)))\n",
    "for jaccard in jaccard_list:\n",
    "    edge_jaccard[(jaccard[0], jaccard[1])] = jaccard[2]"
   ]
  },
  {
   "cell_type": "code",
   "execution_count": null,
   "metadata": {},
   "outputs": [],
   "source": [
    "edge_jaccard = sorted(edge_jaccard.items(), key=operator.itemgetter(1), reverse=False)"
   ]
  },
  {
   "cell_type": "code",
   "execution_count": null,
   "metadata": {},
   "outputs": [],
   "source": [
    "edge_jaccard"
   ]
  },
  {
   "cell_type": "code",
   "execution_count": null,
   "metadata": {},
   "outputs": [],
   "source": [
    "edge_betweenness = nx.edge_betweenness_centrality(inter_layer.two_layer_graph)\n",
    "edge_betweenness_order = sorted(edge_betweenness.items(), key=operator.itemgetter(1), reverse=True)"
   ]
  },
  {
   "cell_type": "code",
   "execution_count": null,
   "metadata": {},
   "outputs": [],
   "source": [
    "print(edge_betweenness_order[0:10])"
   ]
  },
  {
   "cell_type": "code",
   "execution_count": null,
   "metadata": {},
   "outputs": [],
   "source": [
    "print(len(inter_layer.edges_on_A))\n",
    "print(len(sorted(inter_layer.two_layer_graph.edges)))\n",
    "print(inter_layer.unique_neighbor_dict[8])"
   ]
  },
  {
   "cell_type": "code",
   "execution_count": null,
   "metadata": {
    "scrolled": true
   },
   "outputs": [],
   "source": [
    "res = RepeatDynamics.RepeatDynamics()\n",
    "result = res.select_keyedge(setting, inter_layer, 'edge_betweenness', 'A_internal', 10)\n",
    "print(result[0])\n",
    "print(len(inter_layer.edges_on_A))\n",
    "print(len(sorted(inter_layer.two_layer_graph.edges)))\n",
    "print(inter_layer.unique_neighbor_dict[8])"
   ]
  },
  {
   "cell_type": "code",
   "execution_count": null,
   "metadata": {
    "scrolled": true
   },
   "outputs": [],
   "source": [
    "result"
   ]
  },
  {
   "cell_type": "code",
   "execution_count": null,
   "metadata": {},
   "outputs": [],
   "source": [
    "p = (0, 4)\n",
    "p_list = np.linspace(p[0], p[-1], 10)\n",
    "print(p_list)"
   ]
  },
  {
   "cell_type": "code",
   "execution_count": null,
   "metadata": {},
   "outputs": [],
   "source": [
    "p_list[1:2]"
   ]
  },
  {
   "cell_type": "code",
   "execution_count": null,
   "metadata": {},
   "outputs": [],
   "source": [
    "p =[0.4]\n",
    "gap=1\n",
    "p_list = np.linspace(p[0], p[-1], gap)"
   ]
  },
  {
   "cell_type": "code",
   "execution_count": null,
   "metadata": {},
   "outputs": [],
   "source": [
    "select_using_prob=[False]\n",
    "for using_prob in select_using_prob:\n",
    "    print(using_prob)"
   ]
  },
  {
   "cell_type": "code",
   "execution_count": null,
   "metadata": {},
   "outputs": [],
   "source": [
    "select_node_layers_list = ['A_layer', 'B_layer', 'mixed']\n",
    "select_edge_layers_list = ['A_internal', 'A_mixed', 'B_internal', 'B_mixed', 'external', 'mixed']\n",
    "select_node_layers=[2]\n",
    "for node_layer in select_node_layers_list[select_node_layers[0]:select_node_layers[-1]+1]:\n",
    "    print(node_layer)"
   ]
  },
  {
   "cell_type": "code",
   "execution_count": null,
   "metadata": {},
   "outputs": [],
   "source": []
  },
  {
   "cell_type": "code",
   "execution_count": null,
   "metadata": {},
   "outputs": [],
   "source": [
    "edge_numbers=[1, 50]\n",
    "for edge_number in range(edge_numbers[0], edge_numbers[-1] + 1):\n",
    "    print(edge_number)"
   ]
  },
  {
   "cell_type": "code",
   "execution_count": null,
   "metadata": {},
   "outputs": [],
   "source": []
  },
  {
   "cell_type": "code",
   "execution_count": null,
   "metadata": {},
   "outputs": [],
   "source": []
  },
  {
   "cell_type": "code",
   "execution_count": null,
   "metadata": {},
   "outputs": [],
   "source": []
  }
 ],
 "metadata": {
  "kernelspec": {
   "display_name": "Python 3",
   "language": "python",
   "name": "python3"
  },
  "language_info": {
   "codemirror_mode": {
    "name": "ipython",
    "version": 3
   },
   "file_extension": ".py",
   "mimetype": "text/x-python",
   "name": "python",
   "nbconvert_exporter": "python",
   "pygments_lexer": "ipython3",
   "version": "3.7.3"
  }
 },
 "nbformat": 4,
 "nbformat_minor": 2
}
